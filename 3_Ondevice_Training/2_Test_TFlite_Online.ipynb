{
 "cells": [
  {
   "cell_type": "code",
   "execution_count": 2,
   "metadata": {},
   "outputs": [
    {
     "name": "stderr",
     "output_type": "stream",
     "text": [
      "2024-08-07 13:36:00.418072: I tensorflow/core/util/port.cc:110] oneDNN custom operations are on. You may see slightly different numerical results due to floating-point round-off errors from different computation orders. To turn them off, set the environment variable `TF_ENABLE_ONEDNN_OPTS=0`.\n",
      "2024-08-07 13:36:00.441005: I tensorflow/core/platform/cpu_feature_guard.cc:182] This TensorFlow binary is optimized to use available CPU instructions in performance-critical operations.\n",
      "To enable the following instructions: AVX2 AVX_VNNI FMA, in other operations, rebuild TensorFlow with the appropriate compiler flags.\n",
      "2024-08-07 13:36:00.769887: W tensorflow/compiler/tf2tensorrt/utils/py_utils.cc:38] TF-TRT Warning: Could not find TensorRT\n",
      "INFO: Created TensorFlow Lite delegate for select TF ops.\n",
      "2024-08-07 13:36:01.219827: I tensorflow/compiler/xla/stream_executor/cuda/cuda_gpu_executor.cc:995] successful NUMA node read from SysFS had negative value (-1), but there must be at least one NUMA node, so returning NUMA node zero. See more at https://github.com/torvalds/linux/blob/v6.0/Documentation/ABI/testing/sysfs-bus-pci#L344-L355\n",
      "2024-08-07 13:36:01.234029: I tensorflow/compiler/xla/stream_executor/cuda/cuda_gpu_executor.cc:995] successful NUMA node read from SysFS had negative value (-1), but there must be at least one NUMA node, so returning NUMA node zero. See more at https://github.com/torvalds/linux/blob/v6.0/Documentation/ABI/testing/sysfs-bus-pci#L344-L355\n",
      "2024-08-07 13:36:01.234148: I tensorflow/compiler/xla/stream_executor/cuda/cuda_gpu_executor.cc:995] successful NUMA node read from SysFS had negative value (-1), but there must be at least one NUMA node, so returning NUMA node zero. See more at https://github.com/torvalds/linux/blob/v6.0/Documentation/ABI/testing/sysfs-bus-pci#L344-L355\n",
      "2024-08-07 13:36:01.273602: I tensorflow/compiler/xla/stream_executor/cuda/cuda_gpu_executor.cc:995] successful NUMA node read from SysFS had negative value (-1), but there must be at least one NUMA node, so returning NUMA node zero. See more at https://github.com/torvalds/linux/blob/v6.0/Documentation/ABI/testing/sysfs-bus-pci#L344-L355\n",
      "2024-08-07 13:36:01.273702: I tensorflow/compiler/xla/stream_executor/cuda/cuda_gpu_executor.cc:995] successful NUMA node read from SysFS had negative value (-1), but there must be at least one NUMA node, so returning NUMA node zero. See more at https://github.com/torvalds/linux/blob/v6.0/Documentation/ABI/testing/sysfs-bus-pci#L344-L355\n",
      "2024-08-07 13:36:01.273792: I tensorflow/compiler/xla/stream_executor/cuda/cuda_gpu_executor.cc:995] successful NUMA node read from SysFS had negative value (-1), but there must be at least one NUMA node, so returning NUMA node zero. See more at https://github.com/torvalds/linux/blob/v6.0/Documentation/ABI/testing/sysfs-bus-pci#L344-L355\n",
      "2024-08-07 13:36:01.273839: I tensorflow/core/common_runtime/gpu/gpu_device.cc:1639] Created device /job:localhost/replica:0/task:0/device:GPU:0 with 1218 MB memory:  -> device: 0, name: NVIDIA GeForce RTX 4070, pci bus id: 0000:01:00.0, compute capability: 8.9\n",
      "INFO: TfLiteFlexDelegate delegate: 0 nodes delegated out of 178 nodes with 0 partitions.\n",
      "\n",
      "INFO: Created TensorFlow Lite XNNPACK delegate for CPU.\n"
     ]
    }
   ],
   "source": [
    "#!/usr/bin/env python3\n",
    "# -*- coding: utf-8 -*-\n",
    "\"\"\"\n",
    "TFLite 모델 서명 실행기\n",
    "- TFLite SavedModel 서명(infer, save) 실행\n",
    "- CSV 테스트 데이터 로드 및 예측\n",
    "\n",
    "Usage:\n",
    "    python tflite_runner.py \\\n",
    "        --model_path /path/multi_cnn_sign.tflite \\\n",
    "        --x_csv /path/test_x.csv \\\n",
    "        --save_ckpt /path/model.ckpt \\\n",
    "        [--num_samples 1]\n",
    "\"\"\"\n",
    "import argparse\n",
    "import numpy as np\n",
    "import pandas as pd\n",
    "import tensorflow as tf\n",
    "\n",
    "def load_interpreter(model_path):\n",
    "    interpreter = tf.lite.Interpreter(model_path=model_path)\n",
    "    interpreter.allocate_tensors()\n",
    "    return interpreter\n",
    "\n",
    "\n",
    "def run_inference(interpreter, x_csv, num_samples):\n",
    "    df = pd.read_csv(x_csv, header=None)\n",
    "    arr = df.to_numpy(dtype=np.float32)\n",
    "    # reshape to [samples, time, features]\n",
    "    arr = arr.reshape(-1, 300, 12)\n",
    "    arr = arr[:num_samples]\n",
    "    # split sensors: [4, batch, 300,3]\n",
    "    sensors = [arr[:, :, i*3:(i+1)*3] for i in range(4)]\n",
    "    stack = np.stack(sensors, axis=0)\n",
    "    infer = interpreter.get_signature_runner(\"infer\")\n",
    "    out = infer(x=stack)\n",
    "    return out\n",
    "\n",
    "\n",
    "def save_checkpoint(interpreter, ckpt_path):\n",
    "    save = interpreter.get_signature_runner(\"save\")\n",
    "    save(checkpoint_path=np.array(ckpt_path, dtype=np.string_))\n",
    "    print(f\"Checkpoint saved to {ckpt_path}\")\n",
    "\n",
    "\n",
    "def main():\n",
    "    parser = argparse.ArgumentParser()\n",
    "    parser.add_argument('--model_path', required=True, help='Path to .tflite model')\n",
    "    parser.add_argument('--x_csv', required=True, help='Test CSV path')\n",
    "    parser.add_argument('--save_ckpt', required=True, help='Checkpoint path to save')\n",
    "    parser.add_argument('--num_samples', type=int, default=1,\n",
    "                        help='Number of samples to infer')\n",
    "    args = parser.parse_args()\n",
    "\n",
    "    interpreter = load_interpreter(args.model_path)\n",
    "    results = run_inference(interpreter, args.x_csv, args.num_samples)\n",
    "    print(\"Inference results:\", results['logits'])\n",
    "    save_checkpoint(interpreter, args.save_ckpt)\n",
    "\n",
    "if __name__ == '__main__':\n",
    "    main()"
   ]
  },
  {
   "cell_type": "code",
   "execution_count": null,
   "metadata": {},
   "outputs": [],
   "source": []
  }
 ],
 "metadata": {
  "kernelspec": {
   "display_name": "tensor_lite",
   "language": "python",
   "name": "python3"
  },
  "language_info": {
   "codemirror_mode": {
    "name": "ipython",
    "version": 3
   },
   "file_extension": ".py",
   "mimetype": "text/x-python",
   "name": "python",
   "nbconvert_exporter": "python",
   "pygments_lexer": "ipython3",
   "version": "3.8.10"
  }
 },
 "nbformat": 4,
 "nbformat_minor": 2
}
